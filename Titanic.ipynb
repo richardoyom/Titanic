{
 "cells": [
  {
   "cell_type": "markdown",
   "metadata": {},
   "source": [
    "# Titanic Survival Prediction\n",
    "\n",
    "## Using Classification\n"
   ]
  },
  {
   "cell_type": "code",
   "execution_count": null,
   "metadata": {},
   "outputs": [],
   "source": [
    "# 1. Import libraries\n",
    "\n",
    "import pandas as pd#pandas: for loading and handling data\n",
    "import numpy as np #numpy: for numerical operations\n",
    "from sklearn.model_selection import train_test_split #train_test_split: to split data into training and test sets\n",
    "from sklearn.preprocessing import LabelEncoder #LabelEncoder: to convert text labels (like \"male\") into numbers\n",
    "from sklearn.ensemble import RandomForestClassifier#RandomForestClassifier: the ML model\n",
    "from sklearn.metrics import accuracy_score #accuracy_score: to measure model performance\n"
   ]
  },
  {
   "cell_type": "markdown",
   "metadata": {
    "tags": []
   },
   "source": [
    "## load the data set\n",
    "\n",
    "\n"
   ]
  },
  {
   "cell_type": "code",
   "execution_count": null,
   "metadata": {},
   "outputs": [],
   "source": [
    "# 2. Load the dataset\n",
    "data = pd.read_csv('train.csv') # Reads the Titanic dataset into a DataFrame\n"
   ]
  },
  {
   "cell_type": "code",
   "execution_count": null,
   "metadata": {},
   "outputs": [],
   "source": [
    "# 3. Look at the data\n",
    "print(data.head()) # display the first five rows of the data set\n"
   ]
  },
  {
   "cell_type": "code",
   "execution_count": null,
   "metadata": {},
   "outputs": [],
   "source": [
    "# 4. Select features and target\n",
    "features = ['Pclass', 'Sex', 'Age', 'Fare']\n",
    "X = data[features]\n",
    "y = data['Survived']\n",
    "\n",
    "#We choose 4 simple features:\n",
    "#Pclass: Passenger class (1st, 2nd, 3rd)\n",
    "#Sex: male/female\n",
    "#Age, Fare: numeric features\n",
    "#X: input features\n",
    "#y: target (what we want to predict)\n",
    "\n",
    "\n"
   ]
  },
  {
   "cell_type": "code",
   "execution_count": null,
   "metadata": {},
   "outputs": [],
   "source": [
    "# 5. Handle missing values\n",
    "X['Age'].fillna(X['Age'].median(), inplace=True)\n",
    "#The Age column has missing values (NaNs)\n",
    "#We replace them with the median age\n",
    "\n"
   ]
  },
  {
   "cell_type": "code",
   "execution_count": null,
   "metadata": {},
   "outputs": [],
   "source": [
    "# 6. Convert categorical to numbers\n",
    "le = LabelEncoder()\n",
    "X['Sex'] = le.fit_transform(X['Sex'])\n",
    "#Sex is a text column (\"male\", \"female\")\n",
    "#We encode it to 0 and 1:\n",
    "#male → 1\n",
    "#female → 0\n",
    "\n"
   ]
  },
  {
   "cell_type": "code",
   "execution_count": null,
   "metadata": {},
   "outputs": [],
   "source": [
    "# 7. Split into training and test sets\n",
    "X_train, X_test, y_train, y_test = train_test_split(X, y, test_size=0.2, random_state=42)\n",
    "#Split the data:\n",
    "#80% for training\n",
    "#20% for testing\n",
    "#random_state=42 makes the split reproducible"
   ]
  },
  {
   "cell_type": "code",
   "execution_count": null,
   "metadata": {},
   "outputs": [],
   "source": [
    "# 8. Train the model\n",
    "model = RandomForestClassifier()\n",
    "model.fit(X_train, y_train)\n",
    "#We create a Random Forest classifier\n",
    "#.fit() trains the model using the training data"
   ]
  },
  {
   "cell_type": "code",
   "execution_count": null,
   "metadata": {},
   "outputs": [],
   "source": [
    "# 9. Make predictions\n",
    "y_pred = model.predict(X_test)\n",
    "#We use the trained model to predict survival on the test set"
   ]
  },
  {
   "cell_type": "code",
   "execution_count": null,
   "metadata": {},
   "outputs": [],
   "source": [
    "# 10. Evaluate the model\n",
    "accuracy = accuracy_score(y_test, y_pred)\n",
    "print(f\"Accuracy: {accuracy:.2f}\")\n",
    "#We check how many predictions were correct using accuracy\n",
    "#Print it (e.g., \"Accuracy: 0.82\")"
   ]
  },
  {
   "cell_type": "code",
   "execution_count": null,
   "metadata": {},
   "outputs": [],
   "source": [
    "Accuracy: 0.82\n"
   ]
  },
  {
   "cell_type": "code",
   "execution_count": null,
   "metadata": {},
   "outputs": [],
   "source": [
    "# Predict survival of a new passenger\n",
    "new_passenger = pd.DataFrame({\n",
    "    'Pclass': [3],\n",
    "    'Sex': ['male'],\n",
    "    'Age': [25],\n",
    "    'Fare': [7.25]\n",
    "})\n",
    "\n",
    "new_passenger['Sex'] = le.transform(new_passenger['Sex'])\n",
    "prediction = model.predict(new_passenger)\n",
    "print(f\"Survived? {prediction[0]}\")\n"
   ]
  },
  {
   "cell_type": "code",
   "execution_count": null,
   "metadata": {},
   "outputs": [],
   "source": []
  },
  {
   "cell_type": "markdown",
   "metadata": {},
   "source": []
  }
 ],
 "metadata": {
  "kernelspec": {
   "display_name": "Python 3 (ipykernel)",
   "language": "python",
   "name": "python3"
  },
  "language_info": {
   "codemirror_mode": {
    "name": "ipython",
    "version": 3
   },
   "file_extension": ".py",
   "mimetype": "text/x-python",
   "name": "python",
   "nbconvert_exporter": "python",
   "pygments_lexer": "ipython3",
   "version": "3.12.4"
  }
 },
 "nbformat": 4,
 "nbformat_minor": 4
}
